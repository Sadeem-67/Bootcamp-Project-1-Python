{
 "cells": [
  {
   "cell_type": "markdown",
   "id": "8db33141-617e-45b8-9500-3d0d8a461421",
   "metadata": {},
   "source": [
    "##  مرحبًا بك هذا البرنامج يمكنك من متابعة إدارتك المالية "
   ]
  },
  {
   "cell_type": "code",
   "execution_count": 2,
   "id": "20d51808-900a-420f-a872-273b52f4d3ae",
   "metadata": {},
   "outputs": [
    {
     "name": "stdin",
     "output_type": "stream",
     "text": [
      "إسم المستخدم:  سديم\n"
     ]
    }
   ],
   "source": [
    "userName = input(\"إسم المستخدم: \")"
   ]
  },
  {
   "cell_type": "markdown",
   "id": "4d3e2762-6c86-4bd7-a6dc-3e49dff5e82f",
   "metadata": {},
   "source": [
    "### مجموع المصروفات"
   ]
  },
  {
   "cell_type": "code",
   "execution_count": 4,
   "id": "cef86925-eacd-4465-acc6-5118f9e68321",
   "metadata": {},
   "outputs": [
    {
     "name": "stdout",
     "output_type": "stream",
     "text": [
      "مرحبًا سديم\n",
      "يرجى منك الأن ادخال مصروفاتك الشهرية اللازمة\n"
     ]
    },
    {
     "name": "stdin",
     "output_type": "stream",
     "text": [
      "مجموع فواتير الشهر على سبيل المثال (فاتورة الجوال) هي:  1000\n",
      "المشتريات الشهريه اللازمة على سبيل المثال (البقالة و الصيدلية) هي:  1000\n",
      "مجموع شرائك للبنزين في الشهر:  500\n",
      "قروض (في حال عدم وجود اي قروض اخرى ادخل 0) 0\n",
      "التزامات اخرى (في حال عدم وجود اي التزمات اخرى ادخل 0) 0\n"
     ]
    }
   ],
   "source": [
    "print(f\"مرحبًا {userName}\\nيرجى منك الأن ادخال مصروفاتك الشهرية اللازمة\")\n",
    "bills = float(input(\"مجموع فواتير الشهر على سبيل المثال (فاتورة الجوال) هي: \"))\n",
    "pur = float(input(\"المشتريات الشهريه اللازمة على سبيل المثال (البقالة و الصيدلية) هي: \"))\n",
    "petrol = float(input(\"مجموع شرائك للبنزين في الشهر: \"))\n",
    "loan = float(input(\"قروض (في حال عدم وجود اي قروض اخرى ادخل 0)\"))\n",
    "other = float(input(\"التزامات اخرى (في حال عدم وجود اي التزمات اخرى ادخل 0)\"))"
   ]
  },
  {
   "cell_type": "code",
   "execution_count": 16,
   "id": "7100cb5f-e993-42e0-9177-3dac831e6729",
   "metadata": {},
   "outputs": [],
   "source": [
    "expenses ={0: bills , 1: pur , 2 : petrol\n",
    "           ,3 : loan , 4: other}"
   ]
  },
  {
   "cell_type": "code",
   "execution_count": 17,
   "id": "a4387c18-51b5-4078-aae9-1ce7bcaec002",
   "metadata": {},
   "outputs": [
    {
     "data": {
      "text/plain": [
       "2500.0"
      ]
     },
     "execution_count": 17,
     "metadata": {},
     "output_type": "execute_result"
    }
   ],
   "source": [
    "totalExpenses = 0\n",
    "for i in expenses.values():\n",
    "    totalExpenses += i\n",
    "totalExpenses "
   ]
  },
  {
   "cell_type": "markdown",
   "id": "ae571b79-6633-4d05-aed6-6524985791d0",
   "metadata": {},
   "source": [
    "### مجموع الدخل"
   ]
  },
  {
   "cell_type": "code",
   "execution_count": 19,
   "id": "60d2bb6a-fc67-42a9-b6ac-405fa0784b7c",
   "metadata": {},
   "outputs": [
    {
     "name": "stdout",
     "output_type": "stream",
     "text": [
      "يرجى منك الأن ادخال دخلك الشهري\n"
     ]
    },
    {
     "name": "stdin",
     "output_type": "stream",
     "text": [
      "مرتبك الشهري:  12000\n",
      "دخل اخر (في حال عدم وجود اي دخل اخر ادخل 0) 0\n"
     ]
    }
   ],
   "source": [
    "print(\"يرجى منك الأن ادخال دخلك الشهري\")\n",
    "salary = float(input(\"مرتبك الشهري: \"))\n",
    "other2 = float(input(\"دخل اخر (في حال عدم وجود اي دخل اخر ادخل 0)\"))\n",
    "income ={0: salary , 1 : other2}"
   ]
  },
  {
   "cell_type": "code",
   "execution_count": 20,
   "id": "5f6abf34-4224-4c6d-ba7e-8376f790b6ba",
   "metadata": {},
   "outputs": [
    {
     "data": {
      "text/plain": [
       "12000.0"
      ]
     },
     "execution_count": 20,
     "metadata": {},
     "output_type": "execute_result"
    }
   ],
   "source": [
    "totalIncome = 0\n",
    "for i in income.values():\n",
    "    totalIncome += i\n",
    "totalIncome "
   ]
  },
  {
   "cell_type": "markdown",
   "id": "4dc192d5-0b01-4f83-b11c-654e4b485137",
   "metadata": {},
   "source": [
    "### الإستثمارات"
   ]
  },
  {
   "cell_type": "code",
   "execution_count": 21,
   "id": "304d4f15-07a8-410f-a7f1-9f4f518cd595",
   "metadata": {},
   "outputs": [],
   "source": [
    "investmentsFun = lambda totalIncome, totalExpenses : totalIncome - totalExpenses  \n",
    "investments= int(investmentsFun(totalIncome, totalExpenses))"
   ]
  },
  {
   "cell_type": "code",
   "execution_count": 22,
   "id": "429951b5-4366-41ae-8b4c-6d38475d1479",
   "metadata": {},
   "outputs": [
    {
     "name": "stdout",
     "output_type": "stream",
     "text": [
      "يجب عليك استثمار مبلغ 9500 من دخلك \n"
     ]
    }
   ],
   "source": [
    "print(f\"يجب عليك استثمار مبلغ {investments} من دخلك \")"
   ]
  },
  {
   "cell_type": "markdown",
   "id": "4b7537aa-eda0-4ee4-bd5b-8cc7952b69e0",
   "metadata": {},
   "source": [
    "### توصيات "
   ]
  },
  {
   "cell_type": "code",
   "execution_count": 23,
   "id": "5ec28553-7f2f-493a-8bed-cdcbee0f6d89",
   "metadata": {},
   "outputs": [
    {
     "name": "stdout",
     "output_type": "stream",
     "text": [
      "في قسم التوصيات نوضح هل تحتاج الى زيادة دخلك او الى تقليل مصروفاتك\n"
     ]
    }
   ],
   "source": [
    "print(\"في قسم التوصيات نوضح هل تحتاج الى زيادة دخلك او الى تقليل مصروفاتك\")"
   ]
  },
  {
   "cell_type": "code",
   "execution_count": 24,
   "id": "6f5ad1cf-2aaf-4882-b9e1-76e80f6b4b2e",
   "metadata": {},
   "outputs": [
    {
     "name": "stdout",
     "output_type": "stream",
     "text": [
      "تهانينا سديم انت/تِ في الاتجاه السليم\n",
      "نسبة المصروفات مقارنة بالدخل:\n"
     ]
    },
    {
     "data": {
      "text/plain": [
       "20"
      ]
     },
     "execution_count": 24,
     "metadata": {},
     "output_type": "execute_result"
    }
   ],
   "source": [
    "def recom():\n",
    "    rate = int((totalExpenses/totalIncome) * 100)\n",
    "    if rate < 50:\n",
    "        print (f\"تهانينا {userName} انت/تِ في الاتجاه السليم\")\n",
    "    else :\n",
    "        print(\"يجب عليك زيادة دخلك او تقليل مصروفاتك\")\n",
    "    print(\"نسبة المصروفات مقارنة بالدخل:\")\n",
    "    return rate \n",
    "\n",
    "recom()"
   ]
  },
  {
   "cell_type": "markdown",
   "id": "0862d3be-9d00-47df-8ca8-d82dd1548318",
   "metadata": {},
   "source": [
    "### طباعة سجلك "
   ]
  },
  {
   "cell_type": "code",
   "execution_count": 25,
   "id": "76900994-d19a-4be3-887f-08342c955b71",
   "metadata": {},
   "outputs": [
    {
     "name": "stdout",
     "output_type": "stream",
     "text": [
      "المصروفات:\n",
      "الفواتير:1000.0\n",
      "المشتريات:1000.0\n",
      "البنزين:500.0\n",
      "القروض:0.0\n",
      "اخرى:0.0\n",
      "مجموع المصروفات:2500.0\n",
      "\n",
      "الدخل الشهري:\n",
      "المرتب:12000.0\n",
      "اخرى:0.0\n",
      "مجموع الدخل:12000.0\n",
      "\n",
      "مبلغ الإستثمار:\n",
      "9500\n",
      "\n",
      "نسبة المصروفات مقارنة بالدخل \n",
      "بعض توصيات\n",
      "تهانينا سديم انت/تِ في الاتجاه السليم\n",
      "نسبة المصروفات مقارنة بالدخل:\n",
      "20\n"
     ]
    }
   ],
   "source": [
    "expenses2 ={0: str(bills) , 1: str(pur) , 2 : str(petrol)\n",
    "           ,3 :str( loan ), 4: str(other)}\n",
    "income2 ={0:str(salary) , 1 : str(other2)}\n",
    "\n",
    "def logs():\n",
    "    print(\"المصروفات:\")\n",
    "    print(\"الفواتير:\"+ expenses2[0]+ \"\\nالمشتريات:\"+ expenses2[1]+\n",
    "         \"\\nالبنزين:\"+  expenses2[2]+\"\\nالقروض:\"+  expenses2[3]\n",
    "         +\"\\nاخرى:\"+  expenses2[4])\n",
    "    print(f\"مجموع المصروفات:{totalExpenses}\")\n",
    "    print()\n",
    "    print(\"الدخل الشهري:\")\n",
    "    print(\"المرتب:\"+ income2[0]+ \"\\nاخرى:\"+ income2[1])\n",
    "    print(f\"مجموع الدخل:{totalIncome}\")\n",
    "    print()\n",
    "    print(f\"مبلغ الإستثمار:\\n{investments}\")\n",
    "    print()\n",
    "    print(\"نسبة المصروفات مقارنة بالدخل \\nبعض توصيات\")\n",
    "    print(recom())\n",
    "    \n",
    "logs()"
   ]
  },
  {
   "cell_type": "code",
   "execution_count": null,
   "id": "4b73be47-2f22-4e28-af49-10f5de298d47",
   "metadata": {},
   "outputs": [],
   "source": []
  },
  {
   "cell_type": "code",
   "execution_count": null,
   "id": "15f21075-c019-45c8-b282-79f3ebb8d483",
   "metadata": {},
   "outputs": [],
   "source": []
  }
 ],
 "metadata": {
  "kernelspec": {
   "display_name": "Python 3 (ipykernel)",
   "language": "python",
   "name": "python3"
  },
  "language_info": {
   "codemirror_mode": {
    "name": "ipython",
    "version": 3
   },
   "file_extension": ".py",
   "mimetype": "text/x-python",
   "name": "python",
   "nbconvert_exporter": "python",
   "pygments_lexer": "ipython3",
   "version": "3.9.13"
  }
 },
 "nbformat": 4,
 "nbformat_minor": 5
}
